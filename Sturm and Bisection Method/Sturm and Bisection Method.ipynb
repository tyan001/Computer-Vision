{
 "cells": [
  {
   "cell_type": "code",
   "execution_count": 1,
   "metadata": {},
   "outputs": [],
   "source": [
    "from numpy import dot,diagonal,outer,identity\n",
    "from math import sqrt\n",
    "import numpy as np"
   ]
  },
  {
   "cell_type": "markdown",
   "metadata": {},
   "source": [
    "# Introduction\n",
    "In this lab we will be exploring the application of the Sturm sequence computation and how we can use it with the Bisection Method to extract an eigenvalue between two intervals of a tridiagnolize matrix."
   ]
  },
  {
   "cell_type": "markdown",
   "metadata": {},
   "source": [
    "# Method\n",
    "## Sturm Theorem\n",
    "\n",
    "The Sturm Theorem states that the number of agreements in Strum(λ) signs of successive members of the sequence {Pr(λ)} is equal to the number of eigenvalues of T which are strictly greater than λ. Basically if we were to do the Strum method on a number of tridiagnolize matrix A e.g. <br> Strum(A,2) = [+1, +2, -1. 0, -4] = [+ + - - -] then we can see that there are 3 eigen value that are greater than 2 in the Matrix A noted that when one of the values is 0 it retains the sign of the previous value.\n",
    "\n",
    "Here is the algorithm on obtaining Pr(λ):\n",
    "\n",
    "$r=0$  $then$ $P_{r}(λ) = 1$ <br>\n",
    "$r=1$ $then$ $P_{r}(λ) = d1 - λ$ <br>\n",
    "$r=2, 3 , ..., m$ $then$ $P_{r}(λ) = (d_{r} - λ) * P_{r-1}(λ) - (e_{r})^{2}- P_{r-2}(λ)$\n",
    "\n",
    "$\\begin{bmatrix} \n",
    "d_{1} & e_{1} & 0 & \\dots & 0\\\\ \n",
    "e_{1} & d_{2} & e_{3} & \\ddots & 0\\\\\n",
    "0& \\ddots   & \\ddots & \\ddots & 0 \\\\\n",
    "\\vdots& \\ddots& e_{r-2} & d_{r-1} & e_{r-1}\\\\\n",
    "0&0&0& e_{r-1} & d_{r}\n",
    "\\end{bmatrix}$ <br>\n",
    "\n",
    "## Theory 1\n",
    "\n",
    "We can do a systematic search between two intervals of λ as long as this rules are met: <br>\n",
    "($λ_{2}$ < $λ_{1}$) <br>\n",
    "$s(λ_{1}) = k_{1},$ <br>  $s(λ_{2}) = k_{1}+1,$ <br> \n",
    "\n",
    "Then there is one eigenvalue in the interval [$λ_{2},$$λ_{1}$]\n",
    "\n",
    "But we can also use Sturm Theorem to find the amount of eigen values are between two intervals. e.g. Lets take the interval [-3,-1]. If Strum(-3) = 5 and Strum(-1) = 3, then we know that there are 2 eigenvalues between the interval of λ [-3,-1] necause Strum(-3)-Strum(-1) = 2 as we know that the Sturm method gives you the amount of eigenvalues that are greater than λ.   \n",
    "\n",
    "## Bisection Method\n",
    "By using the Sturm sequence property together with the bisection method it allows us to determine an eigenvalue to a prescribed accuracy. \n",
    "\n",
    "Let $μ^{(0)}= ([λ_{2}^{(0)} +$ $λ_{1}^{(0)}$])/ 2 then evaluate Strum($μ^{(0)}$) which should result in k or k+1. if Strum($μ^{(0)}$) = k, then the eigenvalue lies in the interval [$λ_{1}^{(0)}$,$μ^{(0)}$] otherwise it lies in [$μ^{(0)}$,$λ_{2}^{(0)}$]. If we do this repeatedly our interval will get tighter and we can approximate the eigenvalue.\n",
    "Then to satisfy the desired error we do $|λ_{1}^{(j+1)} - λ_{2}^{(j+1)}|$ < epsilon"
   ]
  },
  {
   "cell_type": "code",
   "execution_count": 2,
   "metadata": {},
   "outputs": [],
   "source": [
    "def Sturm(A,lambda1,lambda2):\n",
    "    count = 0\n",
    "    temp = 0\n",
    "    t1 = [1]\n",
    "    prev = A[0][0] - lambda1\n",
    "    t1.append(prev)\n",
    "    for r in range(1, A.shape[0]):\n",
    "        temp = (t1[r]*(A[r][r] - lambda1)) - ((A[r-1][r]**2) * (t1[r-1]))\n",
    "        t1.append(temp)\n",
    "    \n",
    "    t2 = [1]\n",
    "    prev = A[0][0] - lambda2\n",
    "    t2.append(prev)\n",
    "    for r in range(1, A.shape[0]):\n",
    "        temp = (t2[r]*(A[r][r] - lambda2)) - ((A[r-1][r]**2) * (t2[r-1]))\n",
    "        t2.append(temp)\n",
    "    \n",
    "    return t1,t2       "
   ]
  },
  {
   "cell_type": "code",
   "execution_count": 3,
   "metadata": {},
   "outputs": [],
   "source": [
    "def SturmSolo(A,lambda1):\n",
    "    count = 0\n",
    "    temp = 0\n",
    "    t1 = [1]\n",
    "    prev = A[0][0] - lambda1\n",
    "    t1.append(prev)\n",
    "    for r in range(1, A.shape[0]):\n",
    "        temp = (t1[r]*(A[r][r] - lambda1)) - ((A[r-1][r]**2) * (t1[r-1]))\n",
    "        t1.append(temp)\n",
    "    \n",
    "    return t1       "
   ]
  },
  {
   "cell_type": "code",
   "execution_count": 4,
   "metadata": {},
   "outputs": [],
   "source": [
    "def checkSign(x):\n",
    "    if x>0:\n",
    "        return '+'\n",
    "    else:\n",
    "        return '-'"
   ]
  },
  {
   "cell_type": "code",
   "execution_count": 5,
   "metadata": {},
   "outputs": [],
   "source": [
    "def countSignChanges(seq): \n",
    "\n",
    "    prev = seq[0] \n",
    "    ans = 0\n",
    "\n",
    "    for elem in seq: \n",
    "        if elem == 0: \n",
    "            sign = -1\n",
    "        else: \n",
    "            sign = elem / abs(elem) \n",
    "  \n",
    "        if sign == -prev: \n",
    "            ans = ans + 1\n",
    "            prev = sign \n",
    "  \n",
    "    return ans"
   ]
  },
  {
   "cell_type": "code",
   "execution_count": 6,
   "metadata": {},
   "outputs": [],
   "source": [
    "def signList(nums):\n",
    "    numSigns = []\n",
    "    for x in range(len(nums)):\n",
    "        #print(nums[x])\n",
    "        if nums[x] == 0:\n",
    "            #print(x)\n",
    "            for y in range(x,-1,-1):\n",
    "                #print(y)\n",
    "                if nums[y] == 0:\n",
    "                    continue\n",
    "                else:\n",
    "                    numSigns.append(checkSign(nums[y]))\n",
    "                    break\n",
    "        else:\n",
    "            #print(x)\n",
    "            numSigns.append(checkSign(nums[x]))\n",
    "            \n",
    "    return numSigns"
   ]
  },
  {
   "cell_type": "code",
   "execution_count": 7,
   "metadata": {},
   "outputs": [],
   "source": [
    "def consChanges(slist):\n",
    "    count = 0\n",
    "    for x in range(len(slist)-1):\n",
    "        \n",
    "        prev = slist[x]\n",
    "        Next = slist[x+1]\n",
    "        \n",
    "        if prev == Next:\n",
    "            count = count + 1\n",
    "    return count    "
   ]
  },
  {
   "cell_type": "code",
   "execution_count": 8,
   "metadata": {},
   "outputs": [],
   "source": [
    "def SturmSign(A,lambda1):\n",
    "    \n",
    "    t1 = SturmSolo(A,lambda1)\n",
    "    t1 = np.sign(t1).astype(int)\n",
    "    t1Sign = countSignChanges(t1)\n",
    "    \n",
    "    return t1Sign\n",
    "    "
   ]
  },
  {
   "cell_type": "code",
   "execution_count": 9,
   "metadata": {},
   "outputs": [],
   "source": [
    "def bisectionMethod(f,lambda1,lambda2,A,N):\n",
    "    \n",
    "    t1 = f(A,lambda1)\n",
    "    t2 = f(A,lambda2)\n",
    "      \n",
    "    if t1 != t2+1:\n",
    "        print(\"Range does not have only 1 eigenvalue\")\n",
    "        return\n",
    "    \n",
    "    k = np.maximum(t1,t2)\n",
    "    \n",
    "    for x in range(N): \n",
    "        mu = (lambda1 + lambda2) / 2\n",
    "        muS = f(A,mu)\n",
    "        t1 = f(A,lambda1)\n",
    "        if muS == k:\n",
    "            lambda1 = mu\n",
    "        else:\n",
    "            lambda2 = mu\n",
    "        \n",
    "        #print(lambda1)\n",
    "        #print(lambda2)\n",
    "    \n",
    "    if lambda2 < lambda1:\n",
    "        newRange = [lambda2,lambda1]\n",
    "    else:\n",
    "        newRange = [lambda1,lambda2]\n",
    "        \n",
    "    \n",
    "    print(\"New Range: \"  + str(newRange))\n",
    "    return lambda1-lambda2"
   ]
  },
  {
   "cell_type": "code",
   "execution_count": 10,
   "metadata": {},
   "outputs": [],
   "source": [
    "def sturmSign(A,lambda1):\n",
    "    s = SturmSolo(A,lambda1)\n",
    "    #print(s)\n",
    "    s_changes = countSignChanges(s)\n",
    "    s_changes\n",
    "    slist = signList(s)\n",
    "    #print(slist)\n",
    "    ret = consChanges(slist)\n",
    "    \n",
    "    return ret"
   ]
  },
  {
   "cell_type": "code",
   "execution_count": 11,
   "metadata": {},
   "outputs": [],
   "source": [
    "def checkRange(f,lambda1,lambda2,A):\n",
    "    t1 = f(A,lambda1)\n",
    "    t2 = f(A,lambda2)\n",
    "    \n",
    "    if t1 != t2+1:\n",
    "        print(\"Range does not have only 1 eigenvalue\")\n",
    "        return False\n",
    "    else:\n",
    "        print(\"Range does contain only 1 eigenvalue\")\n",
    "        return True"
   ]
  },
  {
   "cell_type": "code",
   "execution_count": 12,
   "metadata": {},
   "outputs": [],
   "source": [
    "def bisecTest1(N,lambda1,lambda2,lambda3,lambda4):\n",
    "    originalRange = np.absolute(lambda1-lambda2)\n",
    "    newRange = np.absolute(lambda3 - lambda4)\n",
    "    ret = (2**-N) * originalRange\n",
    "    \n",
    "    \n",
    "    return newRange == Ret"
   ]
  },
  {
   "cell_type": "code",
   "execution_count": 13,
   "metadata": {},
   "outputs": [],
   "source": [
    "def bisecTest2(N,lambda1,lambda2,epsilon=1e-4):\n",
    "    originalRange = np.absolute(lambda1-lambda2)\n",
    "    e = np.absolute(epsilon)\n",
    "    #print(np.log(originalRange / e) / np.log(2))\n",
    "    ret = N > np.log(originalRange / e) / np.log(2)\n",
    "    \n",
    "    \n",
    "    return ret"
   ]
  },
  {
   "cell_type": "code",
   "execution_count": 14,
   "metadata": {},
   "outputs": [],
   "source": [
    "A = np.array([[-2,1,0,0],[1,-2,1,0],[0,1,-2,1],[0,0,1,-2]])"
   ]
  },
  {
   "cell_type": "code",
   "execution_count": 15,
   "metadata": {},
   "outputs": [
    {
     "data": {
      "text/plain": [
       "array([[-2,  1,  0,  0],\n",
       "       [ 1, -2,  1,  0],\n",
       "       [ 0,  1, -2,  1],\n",
       "       [ 0,  0,  1, -2]])"
      ]
     },
     "execution_count": 15,
     "metadata": {},
     "output_type": "execute_result"
    }
   ],
   "source": [
    "A"
   ]
  },
  {
   "cell_type": "code",
   "execution_count": 16,
   "metadata": {},
   "outputs": [],
   "source": [
    "lambda1 = -2\n",
    "lambda2 = 0"
   ]
  },
  {
   "cell_type": "markdown",
   "metadata": {},
   "source": [
    "**Here when we perform the Strum(-2) and Strum(0) we get their corresponding Pr(λ), Then when we run the sturmSign() function we get the amount of consecutive sign agreements**"
   ]
  },
  {
   "cell_type": "code",
   "execution_count": 17,
   "metadata": {},
   "outputs": [
    {
     "data": {
      "text/plain": [
       "[1, 0, -1, 0, 1]"
      ]
     },
     "execution_count": 17,
     "metadata": {},
     "output_type": "execute_result"
    }
   ],
   "source": [
    "s_lambda1 = SturmSolo(A,lambda1)\n",
    "s_lambda1"
   ]
  },
  {
   "cell_type": "code",
   "execution_count": 18,
   "metadata": {},
   "outputs": [
    {
     "data": {
      "text/plain": [
       "[1, -2, 3, -4, 5]"
      ]
     },
     "execution_count": 18,
     "metadata": {},
     "output_type": "execute_result"
    }
   ],
   "source": [
    "s_lambda2 = SturmSolo(A,lambda2)\n",
    "s_lambda2"
   ]
  },
  {
   "cell_type": "code",
   "execution_count": 19,
   "metadata": {},
   "outputs": [
    {
     "name": "stdout",
     "output_type": "stream",
     "text": [
      "Signs of Strum(-2):['+', '+', '-', '-', '+']\n",
      "Signs of Strum(0):['+', '-', '+', '-', '+']\n"
     ]
    }
   ],
   "source": [
    "signs_lambda1 = signList(s_lambda1)\n",
    "signs_lambda2 = signList(s_lambda2)\n",
    "print(\"Signs of\" + \" Strum(\" + str(lambda1) + \"):\"  + str(signs_lambda1))\n",
    "print(\"Signs of\" + \" Strum(\" + str(lambda2) + \"):\"  + str(signs_lambda2))"
   ]
  },
  {
   "cell_type": "code",
   "execution_count": 20,
   "metadata": {},
   "outputs": [
    {
     "name": "stdout",
     "output_type": "stream",
     "text": [
      "Sign Agreements of lambda1: 2\n"
     ]
    }
   ],
   "source": [
    "print(\"Sign Agreements of lambda1: \" + str(sturmSign(A,lambda1)))"
   ]
  },
  {
   "cell_type": "code",
   "execution_count": 21,
   "metadata": {},
   "outputs": [
    {
     "name": "stdout",
     "output_type": "stream",
     "text": [
      "Sign Agreements of lambda2: 0\n"
     ]
    }
   ],
   "source": [
    "print(\"Sign Agreements of lambda2: \" + str(sturmSign(A,lambda2)))"
   ]
  },
  {
   "cell_type": "markdown",
   "metadata": {},
   "source": [
    "**Here for simplicity we will have the eigenvalues ahead of time to check if the algorithm is correct, this also gives us the range we can use to find the eigenvalue ahead of time. There are ways to find intervals that has 1 eiganvalue by using the Sturm Theorem by testing 2 intervals by desired step and checking if it has only 1 eiganvalue. For example below I use checkRange() to see if there is only 1 eiganvalue in this 2 values I manually input**"
   ]
  },
  {
   "cell_type": "code",
   "execution_count": 22,
   "metadata": {},
   "outputs": [
    {
     "name": "stdout",
     "output_type": "stream",
     "text": [
      "The eigen values of Matrix A is: [-3.61803399 -2.61803399 -0.38196601 -1.38196601]\n"
     ]
    }
   ],
   "source": [
    "eigens = np.linalg.eig(A)[0]\n",
    "print(\"The eigen values of Matrix A is: \" + str(eigens))"
   ]
  },
  {
   "cell_type": "code",
   "execution_count": 23,
   "metadata": {},
   "outputs": [],
   "source": [
    "f = sturmSign"
   ]
  },
  {
   "cell_type": "code",
   "execution_count": 24,
   "metadata": {},
   "outputs": [
    {
     "name": "stdout",
     "output_type": "stream",
     "text": [
      "Range does contain only 1 eigenvalue\n",
      "True\n"
     ]
    }
   ],
   "source": [
    "print(checkRange(f,-1,0, A))"
   ]
  },
  {
   "cell_type": "markdown",
   "metadata": {},
   "source": [
    "**Since we know there is only 1 eigenvalue in this interval then we can proceed to do the bisection method and get the range of the 2 new interval where the eigenvalue is located. After that we set up our own accepted amount of error for the eigenvalue**"
   ]
  },
  {
   "cell_type": "code",
   "execution_count": 25,
   "metadata": {},
   "outputs": [
    {
     "name": "stdout",
     "output_type": "stream",
     "text": [
      "New Range: [-0.3819732666015625, -0.38196563720703125]\n"
     ]
    }
   ],
   "source": [
    "bisecRange = bisectionMethod(f,-1,0,A,17)"
   ]
  },
  {
   "cell_type": "code",
   "execution_count": 26,
   "metadata": {},
   "outputs": [
    {
     "data": {
      "text/plain": [
       "True"
      ]
     },
     "execution_count": 26,
     "metadata": {},
     "output_type": "execute_result"
    }
   ],
   "source": [
    "bisecTest2(17,-1,0,epsilon=1e-5)"
   ]
  },
  {
   "cell_type": "code",
   "execution_count": 27,
   "metadata": {},
   "outputs": [
    {
     "name": "stdout",
     "output_type": "stream",
     "text": [
      "Range does contain only 1 eigenvalue\n",
      "True\n"
     ]
    }
   ],
   "source": [
    "print(checkRange(f,-2,-1, A))"
   ]
  },
  {
   "cell_type": "code",
   "execution_count": 28,
   "metadata": {},
   "outputs": [
    {
     "name": "stdout",
     "output_type": "stream",
     "text": [
      "New Range: [-1.3819732666015625, -1.3819656372070312]\n"
     ]
    }
   ],
   "source": [
    "bisecRange = bisectionMethod(f,-2,-1,A,17)"
   ]
  },
  {
   "cell_type": "code",
   "execution_count": 29,
   "metadata": {},
   "outputs": [
    {
     "data": {
      "text/plain": [
       "True"
      ]
     },
     "execution_count": 29,
     "metadata": {},
     "output_type": "execute_result"
    }
   ],
   "source": [
    "bisecTest2(17,-2,-1,epsilon=1e-5)"
   ]
  },
  {
   "cell_type": "code",
   "execution_count": 30,
   "metadata": {},
   "outputs": [
    {
     "name": "stdout",
     "output_type": "stream",
     "text": [
      "Range does contain only 1 eigenvalue\n",
      "True\n"
     ]
    }
   ],
   "source": [
    "print(checkRange(f,-3,-2, A))"
   ]
  },
  {
   "cell_type": "code",
   "execution_count": 31,
   "metadata": {},
   "outputs": [
    {
     "name": "stdout",
     "output_type": "stream",
     "text": [
      "New Range: [-2.6180343627929688, -2.6180267333984375]\n"
     ]
    }
   ],
   "source": [
    "bisecRange = bisectionMethod(f,-3,-2,A,17)"
   ]
  },
  {
   "cell_type": "code",
   "execution_count": 32,
   "metadata": {},
   "outputs": [
    {
     "data": {
      "text/plain": [
       "True"
      ]
     },
     "execution_count": 32,
     "metadata": {},
     "output_type": "execute_result"
    }
   ],
   "source": [
    "bisecTest2(17,-3,-2,epsilon=1e-5)"
   ]
  },
  {
   "cell_type": "code",
   "execution_count": 33,
   "metadata": {},
   "outputs": [
    {
     "name": "stdout",
     "output_type": "stream",
     "text": [
      "Range does contain only 1 eigenvalue\n",
      "True\n"
     ]
    }
   ],
   "source": [
    "print(checkRange(f,-4,-3, A))"
   ]
  },
  {
   "cell_type": "code",
   "execution_count": 34,
   "metadata": {},
   "outputs": [
    {
     "name": "stdout",
     "output_type": "stream",
     "text": [
      "New Range: [-3.6180343627929688, -3.6180267333984375]\n"
     ]
    }
   ],
   "source": [
    "bisecRange = bisectionMethod(f,-4,-3,A,17)"
   ]
  },
  {
   "cell_type": "code",
   "execution_count": 35,
   "metadata": {},
   "outputs": [
    {
     "data": {
      "text/plain": [
       "True"
      ]
     },
     "execution_count": 35,
     "metadata": {},
     "output_type": "execute_result"
    }
   ],
   "source": [
    "bisecTest2(17,-4,-3,epsilon=1e-5)"
   ]
  },
  {
   "cell_type": "markdown",
   "metadata": {},
   "source": [
    "**Here we do another tridiagnolize matrix**"
   ]
  },
  {
   "cell_type": "code",
   "execution_count": 36,
   "metadata": {},
   "outputs": [
    {
     "data": {
      "text/plain": [
       "0.7071067811865475"
      ]
     },
     "execution_count": 36,
     "metadata": {},
     "output_type": "execute_result"
    }
   ],
   "source": [
    "p = 1/sqrt(2)\n",
    "p"
   ]
  },
  {
   "cell_type": "code",
   "execution_count": 37,
   "metadata": {},
   "outputs": [],
   "source": [
    "B = np.array([[1,2*p,0,0],[2*p,1,-p,0],[0,-p,1,p],[0,0,p,1]])"
   ]
  },
  {
   "cell_type": "code",
   "execution_count": 38,
   "metadata": {},
   "outputs": [],
   "source": [
    "eigens = np.linalg.eig(B)[0]"
   ]
  },
  {
   "cell_type": "code",
   "execution_count": 39,
   "metadata": {},
   "outputs": [],
   "source": [
    "lambda1 = -1\n",
    "lambda2 = 1"
   ]
  },
  {
   "cell_type": "code",
   "execution_count": 40,
   "metadata": {},
   "outputs": [
    {
     "data": {
      "text/plain": [
       "[1, 2.0, 2.0000000000000004, 3.000000000000001, 5.000000000000002]"
      ]
     },
     "execution_count": 40,
     "metadata": {},
     "output_type": "execute_result"
    }
   ],
   "source": [
    "s_lambda1 = SturmSolo(B,lambda1)\n",
    "s_lambda1"
   ]
  },
  {
   "cell_type": "code",
   "execution_count": 41,
   "metadata": {},
   "outputs": [
    {
     "data": {
      "text/plain": [
       "[1, 0.0, -1.9999999999999996, -0.0, 0.9999999999999996]"
      ]
     },
     "execution_count": 41,
     "metadata": {},
     "output_type": "execute_result"
    }
   ],
   "source": [
    "s_lambda2 = SturmSolo(B,lambda2)\n",
    "s_lambda2"
   ]
  },
  {
   "cell_type": "code",
   "execution_count": 42,
   "metadata": {},
   "outputs": [
    {
     "name": "stdout",
     "output_type": "stream",
     "text": [
      "Signs of Strum(-1):['+', '+', '+', '+', '+']\n",
      "Signs of Strum(1):['+', '+', '-', '-', '+']\n"
     ]
    }
   ],
   "source": [
    "signs_lambda1 = signList(s_lambda1)\n",
    "signs_lambda2 = signList(s_lambda2)\n",
    "print(\"Signs of\" + \" Strum(\" + str(lambda1) + \"):\"  + str(signs_lambda1))\n",
    "print(\"Signs of\" + \" Strum(\" + str(lambda2) + \"):\"  + str(signs_lambda2))"
   ]
  },
  {
   "cell_type": "code",
   "execution_count": 43,
   "metadata": {},
   "outputs": [
    {
     "name": "stdout",
     "output_type": "stream",
     "text": [
      "Sign Agreements of lambda1: 4\n"
     ]
    }
   ],
   "source": [
    "print(\"Sign Agreements of lambda1: \" + str(sturmSign(B,lambda1)))"
   ]
  },
  {
   "cell_type": "code",
   "execution_count": 44,
   "metadata": {},
   "outputs": [
    {
     "name": "stdout",
     "output_type": "stream",
     "text": [
      "Sign Agreements of lambda2: 2\n"
     ]
    }
   ],
   "source": [
    "print(\"Sign Agreements of lambda2: \" + str(sturmSign(B,lambda2)))"
   ]
  },
  {
   "cell_type": "code",
   "execution_count": 45,
   "metadata": {},
   "outputs": [
    {
     "name": "stdout",
     "output_type": "stream",
     "text": [
      "Range does contain only 1 eigenvalue\n",
      "True\n"
     ]
    }
   ],
   "source": [
    "print(checkRange(f,-1,0, B))"
   ]
  },
  {
   "cell_type": "markdown",
   "metadata": {},
   "source": [
    "**From this example we can see that the ranges here contain an eiganvalue**"
   ]
  },
  {
   "cell_type": "code",
   "execution_count": 46,
   "metadata": {},
   "outputs": [
    {
     "name": "stdout",
     "output_type": "stream",
     "text": [
      "The eigen values of Matrix B is: [-0.61803399  2.61803399  0.38196601  1.61803399]\n"
     ]
    }
   ],
   "source": [
    "print(\"The eigen values of Matrix B is: \" + str(eigens))"
   ]
  },
  {
   "cell_type": "code",
   "execution_count": 47,
   "metadata": {},
   "outputs": [
    {
     "name": "stdout",
     "output_type": "stream",
     "text": [
      "New Range: [-0.6180343627929688, -0.6180267333984375]\n"
     ]
    }
   ],
   "source": [
    "bisecRange = bisectionMethod(f,-1,0,B,17)"
   ]
  },
  {
   "cell_type": "code",
   "execution_count": 48,
   "metadata": {},
   "outputs": [
    {
     "name": "stdout",
     "output_type": "stream",
     "text": [
      "New Range: [0.38196563720703125, 0.3819732666015625]\n"
     ]
    }
   ],
   "source": [
    "bisecRange = bisectionMethod(f,0,1,B,17)"
   ]
  },
  {
   "cell_type": "code",
   "execution_count": 49,
   "metadata": {},
   "outputs": [
    {
     "name": "stdout",
     "output_type": "stream",
     "text": [
      "New Range: [1.6180267333984375, 1.6180343627929688]\n"
     ]
    }
   ],
   "source": [
    "bisecRange = bisectionMethod(f,1,2,B,17)"
   ]
  },
  {
   "cell_type": "code",
   "execution_count": 50,
   "metadata": {},
   "outputs": [
    {
     "name": "stdout",
     "output_type": "stream",
     "text": [
      "New Range: [2.6180267333984375, 2.6180343627929688]\n"
     ]
    }
   ],
   "source": [
    "bisecRange = bisectionMethod(f,2,3,B,17)"
   ]
  }
 ],
 "metadata": {
  "kernelspec": {
   "display_name": "Python 3",
   "language": "python",
   "name": "python3"
  },
  "language_info": {
   "codemirror_mode": {
    "name": "ipython",
    "version": 3
   },
   "file_extension": ".py",
   "mimetype": "text/x-python",
   "name": "python",
   "nbconvert_exporter": "python",
   "pygments_lexer": "ipython3",
   "version": "3.7.6"
  }
 },
 "nbformat": 4,
 "nbformat_minor": 4
}
