{
 "cells": [
  {
   "cell_type": "code",
   "execution_count": 1,
   "metadata": {},
   "outputs": [],
   "source": [
    "from matplotlib import pyplot as plt\n",
    "import numpy as np\n",
    "import itertools"
   ]
  },
  {
   "cell_type": "markdown",
   "metadata": {},
   "source": [
    "# Introduction\n",
    "In this lab we will be implementing an algorithm for perceptrons to determine a proper decision function. We will be repeating this process with non-linear separable variables to see what happens with the accuracy."
   ]
  },
  {
   "cell_type": "markdown",
   "metadata": {},
   "source": [
    "# Method\n",
    "We will be creating a sample data using two classes that are sparable linearly and test the decision function. After that we will implement the generalized decision function formulation for the i'th order and with n dimensions. "
   ]
  },
  {
   "cell_type": "code",
   "execution_count": 2,
   "metadata": {},
   "outputs": [],
   "source": [
    "def predict(c_weight,input_val):\n",
    "    return np.dot(c_weight,input_val)"
   ]
  },
  {
   "cell_type": "code",
   "execution_count": 3,
   "metadata": {},
   "outputs": [],
   "source": [
    "def accuracy(ypred,ytest):\n",
    "    \n",
    "    r = 0\n",
    "    t = 0\n",
    "    \n",
    "    for i in range(len(ypred)):\n",
    "        if(ypred[i] < 0 and ytest[i] == -1):\n",
    "            r = r + 1\n",
    "        elif(ypred[i] > 0 and ytest[i] == 1):\n",
    "            r = r + 1\n",
    "        t = t + 1    \n",
    "    \n",
    "    ratio = r/t\n",
    "    return ratio"
   ]
  },
  {
   "cell_type": "code",
   "execution_count": 4,
   "metadata": {},
   "outputs": [],
   "source": [
    "def weight_updater(c_weight,input_val,target,lr=0.001):\n",
    "    y = np.dot(c_weight,input_val)\n",
    "    if(y > 0 and target == -1):\n",
    "        return (c_weight - (lr*input_val))\n",
    "    elif(y < 0 and target == 1):\n",
    "        return (c_weight + (lr*input_val))\n",
    "    return c_weight\n"
   ]
  },
  {
   "cell_type": "code",
   "execution_count": 5,
   "metadata": {},
   "outputs": [],
   "source": [
    "def plot(x,y,class_y,weight):\n",
    "    for i in range(x.shape[0]):\n",
    "        current = np.array([x[i],y[i],1])\n",
    "        line_eq = (( weight[0]/weight[1] )*np.array([0,1,2])) + weight[2]/weight[1]\n",
    "        plt.scatter(x,y,c=class_y)\n",
    "        plt.plot([0,1,2],line_eq)\n",
    "        plt.ylim([-2,4])\n",
    "        plt.xlim([-2,4])\n",
    "        plt.show()\n",
    "        print(weight)\n",
    "        weight = weight_updater(weight,current,class_y[i],.2)"
   ]
  },
  {
   "cell_type": "code",
   "execution_count": 6,
   "metadata": {},
   "outputs": [],
   "source": [
    "def combinations(var,deg):\n",
    "    var.append(np.ones_like(var[0]))\n",
    "    idx = []\n",
    "    for i in range(len(var)):\n",
    "        idx.append(i)\n",
    "    combinations = list(itertools.combinations_with_replacement(idx, deg))\n",
    "    weights = np.ones(len(combinations))\n",
    "    return (var,combinations,weights)"
   ]
  },
  {
   "cell_type": "code",
   "execution_count": 7,
   "metadata": {},
   "outputs": [],
   "source": [
    "def out_calculation(var,combinations,weights_k,idx):\n",
    "    r = 0\n",
    "    count = 0\n",
    "    for comb in combinations:\n",
    "        temp = 1\n",
    "        for i in range(len(comb)):\n",
    "            temp = temp*var[comb[i]][idx]\n",
    "        temp = temp*weights_k[count]\n",
    "        count+=1\n",
    "        r = r + temp\n",
    "    return r"
   ]
  },
  {
   "cell_type": "code",
   "execution_count": 8,
   "metadata": {},
   "outputs": [],
   "source": [
    "x = np.array([0,0,1,1,0,0,1,1])\n",
    "y = np.array([0,1,0,1,3,2,2,3])\n",
    "class_y = np.array([-1,-1,-1,-1,1,1,1,1])\n",
    "#starting weights\n",
    "weight = [1,1,0]"
   ]
  },
  {
   "cell_type": "code",
   "execution_count": 9,
   "metadata": {},
   "outputs": [
    {
     "data": {
      "text/plain": [
       "<matplotlib.collections.PathCollection at 0x255186bec88>"
      ]
     },
     "execution_count": 9,
     "metadata": {},
     "output_type": "execute_result"
    },
    {
     "data": {
      "image/png": "[encoded data removed]",
      "text/plain": [
       "<Figure size 432x288 with 1 Axes>"
      ]
     },
     "metadata": {
      "needs_background": "light"
     },
     "output_type": "display_data"
    }
   ],
   "source": [
    "plt.scatter(x,y,c=class_y)"
   ]
  },
  {
   "cell_type": "code",
   "execution_count": 10,
   "metadata": {},
   "outputs": [
    {
     "data": {
      "image/png": "[encoded data removed]",
      "text/plain": [
       "<Figure size 432x288 with 1 Axes>"
      ]
     },
     "metadata": {
      "needs_background": "light"
     },
     "output_type": "display_data"
    },
    {
     "name": "stdout",
     "output_type": "stream",
     "text": [
      "[1, 1, 0]\n"
     ]
    },
    {
     "data": {
      "image/png": "[encoded data removed]",
      "text/plain": [
       "<Figure size 432x288 with 1 Axes>"
      ]
     },
     "metadata": {
      "needs_background": "light"
     },
     "output_type": "display_data"
    },
    {
     "name": "stdout",
     "output_type": "stream",
     "text": [
      "[1, 1, 0]\n"
     ]
    },
    {
     "data": {
      "image/png": "[encoded data removed]",
      "text/plain": [
       "<Figure size 432x288 with 1 Axes>"
      ]
     },
     "metadata": {
      "needs_background": "light"
     },
     "output_type": "display_data"
    },
    {
     "name": "stdout",
     "output_type": "stream",
     "text": [
      "[ 1.   0.8 -0.2]\n"
     ]
    },
    {
     "data": {
      "image/png": "[encoded data removed]",
      "text/plain": [
       "<Figure size 432x288 with 1 Axes>"
      ]
     },
     "metadata": {
      "needs_background": "light"
     },
     "output_type": "display_data"
    },
    {
     "name": "stdout",
     "output_type": "stream",
     "text": [
      "[ 0.8  0.8 -0.4]\n"
     ]
    },
    {
     "data": {
      "image/png": "[encoded data removed]",
      "text/plain": [
       "<Figure size 432x288 with 1 Axes>"
      ]
     },
     "metadata": {
      "needs_background": "light"
     },
     "output_type": "display_data"
    },
    {
     "name": "stdout",
     "output_type": "stream",
     "text": [
      "[ 0.6  0.6 -0.6]\n"
     ]
    },
    {
     "data": {
      "image/png": "[encoded data removed]",
      "text/plain": [
       "<Figure size 432x288 with 1 Axes>"
      ]
     },
     "metadata": {
      "needs_background": "light"
     },
     "output_type": "display_data"
    },
    {
     "name": "stdout",
     "output_type": "stream",
     "text": [
      "[ 0.6  0.6 -0.6]\n"
     ]
    },
    {
     "data": {
      "image/png": "[encoded data removed]",
      "text/plain": [
       "<Figure size 432x288 with 1 Axes>"
      ]
     },
     "metadata": {
      "needs_background": "light"
     },
     "output_type": "display_data"
    },
    {
     "name": "stdout",
     "output_type": "stream",
     "text": [
      "[ 0.6  0.6 -0.6]\n"
     ]
    },
    {
     "data": {
      "image/png": "[encoded data removed]",
      "text/plain": [
       "<Figure size 432x288 with 1 Axes>"
      ]
     },
     "metadata": {
      "needs_background": "light"
     },
     "output_type": "display_data"
    },
    {
     "name": "stdout",
     "output_type": "stream",
     "text": [
      "[ 0.6  0.6 -0.6]\n"
     ]
    }
   ],
   "source": [
    "for i in range(x.shape[0]):\n",
    "    current = np.array([x[i],y[i],1])\n",
    "    line_eq = (( weight[0]/weight[1] )*np.array([0,1,2])) + weight[2]/weight[1]\n",
    "    plt.scatter(x,y,c=class_y)\n",
    "    plt.plot([0,1,2],line_eq)\n",
    "    plt.ylim([-2,4])\n",
    "    plt.xlim([-2,4])\n",
    "    plt.show()\n",
    "    print(weight)\n",
    "    weight = weight_updater(weight,current,class_y[i],.2)"
   ]
  },
  {
   "cell_type": "code",
   "execution_count": 11,
   "metadata": {},
   "outputs": [
    {
     "name": "stdout",
     "output_type": "stream",
     "text": [
      "Accuracy:  62.5 %\n"
     ]
    }
   ],
   "source": [
    "y_predicted = []\n",
    "for i in range(x.shape[0]):\n",
    "    current = np.array([x[i],y[i],1])\n",
    "    y_predicted.append(predict(weight,current))\n",
    "\n",
    "\n",
    "    \n",
    "acc = accuracy(y_predicted,class_y)\n",
    "print(\"Accuracy: \" , 100*acc , \"%\")"
   ]
  },
  {
   "cell_type": "code",
   "execution_count": 12,
   "metadata": {
    "scrolled": true
   },
   "outputs": [
    {
     "name": "stdout",
     "output_type": "stream",
     "text": [
      "[-0.6000000000000001, 0.0, 0.0, 0.6000000000000001, 1.2000000000000002, 0.6000000000000001, 1.2000000000000002, 1.8000000000000003]\n"
     ]
    }
   ],
   "source": [
    "print(y_predicted)"
   ]
  },
  {
   "cell_type": "code",
   "execution_count": 13,
   "metadata": {},
   "outputs": [],
   "source": [
    "x = np.array([0,0,0,0,1,1,1,1])\n",
    "y = np.array([0,1,2,3,0,1,2,3])\n",
    "class_y =  ([-1,-1,-1,-1,1,1,1,1])\n",
    "#starting weights\n",
    "weight = [1,1,0]"
   ]
  },
  {
   "cell_type": "code",
   "execution_count": 14,
   "metadata": {},
   "outputs": [
    {
     "data": {
      "text/plain": [
       "<matplotlib.collections.PathCollection at 0x25518ad0a88>"
      ]
     },
     "execution_count": 14,
     "metadata": {},
     "output_type": "execute_result"
    },
    {
     "data": {
      "image/png": "[encoded data removed]",
      "text/plain": [
       "<Figure size 432x288 with 1 Axes>"
      ]
     },
     "metadata": {
      "needs_background": "light"
     },
     "output_type": "display_data"
    }
   ],
   "source": [
    "plt.scatter(x,y,c=class_y)"
   ]
  },
  {
   "cell_type": "code",
   "execution_count": 15,
   "metadata": {},
   "outputs": [
    {
     "data": {
      "image/png": "[encoded data removed]",
      "text/plain": [
       "<Figure size 432x288 with 1 Axes>"
      ]
     },
     "metadata": {
      "needs_background": "light"
     },
     "output_type": "display_data"
    },
    {
     "name": "stdout",
     "output_type": "stream",
     "text": [
      "[1, 1, 0]\n"
     ]
    },
    {
     "data": {
      "image/png": "[encoded data removed]",
      "text/plain": [
       "<Figure size 432x288 with 1 Axes>"
      ]
     },
     "metadata": {
      "needs_background": "light"
     },
     "output_type": "display_data"
    },
    {
     "name": "stdout",
     "output_type": "stream",
     "text": [
      "[1, 1, 0]\n"
     ]
    },
    {
     "data": {
      "image/png": "[encoded data removed]",
      "text/plain": [
       "<Figure size 432x288 with 1 Axes>"
      ]
     },
     "metadata": {
      "needs_background": "light"
     },
     "output_type": "display_data"
    },
    {
     "name": "stdout",
     "output_type": "stream",
     "text": [
      "[ 1.   0.8 -0.2]\n"
     ]
    },
    {
     "data": {
      "image/png": "[encoded data removed]",
      "text/plain": [
       "<Figure size 432x288 with 1 Axes>"
      ]
     },
     "metadata": {
      "needs_background": "light"
     },
     "output_type": "display_data"
    },
    {
     "name": "stdout",
     "output_type": "stream",
     "text": [
      "[ 1.   0.4 -0.4]\n"
     ]
    },
    {
     "data": {
      "image/png": "[encoded data removed]",
      "text/plain": [
       "<Figure size 432x288 with 1 Axes>"
      ]
     },
     "metadata": {
      "needs_background": "light"
     },
     "output_type": "display_data"
    },
    {
     "name": "stdout",
     "output_type": "stream",
     "text": [
      "[ 1.  -0.2 -0.6]\n"
     ]
    },
    {
     "data": {
      "image/png": "[encoded data removed]",
      "text/plain": [
       "<Figure size 432x288 with 1 Axes>"
      ]
     },
     "metadata": {
      "needs_background": "light"
     },
     "output_type": "display_data"
    },
    {
     "name": "stdout",
     "output_type": "stream",
     "text": [
      "[ 1.  -0.2 -0.6]\n"
     ]
    },
    {
     "data": {
      "image/png": "[encoded data removed]",
      "text/plain": [
       "<Figure size 432x288 with 1 Axes>"
      ]
     },
     "metadata": {
      "needs_background": "light"
     },
     "output_type": "display_data"
    },
    {
     "name": "stdout",
     "output_type": "stream",
     "text": [
      "[ 1.  -0.2 -0.6]\n"
     ]
    },
    {
     "data": {
      "image/png": "[encoded data removed]",
      "text/plain": [
       "<Figure size 432x288 with 1 Axes>"
      ]
     },
     "metadata": {
      "needs_background": "light"
     },
     "output_type": "display_data"
    },
    {
     "name": "stdout",
     "output_type": "stream",
     "text": [
      "[ 1.2  0.2 -0.4]\n"
     ]
    }
   ],
   "source": [
    "for i in range(x.shape[0]):\n",
    "    current = np.array([x[i],y[i],1])\n",
    "    line_eq = (( weight[0]/weight[1] )*np.array([0,1,2])) + weight[2]/weight[1]\n",
    "    plt.scatter(x,y,c=class_y)\n",
    "    plt.plot([0,1,2],line_eq)\n",
    "    plt.ylim([-2,4])\n",
    "    plt.xlim([-2,4])\n",
    "    plt.show()\n",
    "    print(weight)\n",
    "    weight = weight_updater(weight,current,class_y[i],.2)"
   ]
  },
  {
   "cell_type": "code",
   "execution_count": 16,
   "metadata": {},
   "outputs": [
    {
     "name": "stdout",
     "output_type": "stream",
     "text": [
      "Accuracy:  87.5 %\n"
     ]
    }
   ],
   "source": [
    "y_predicted = []\n",
    "for i in range(x.shape[0]):\n",
    "    current = np.array([x[i],y[i],1])\n",
    "    y_predicted.append(predict(weight,current))\n",
    "\n",
    "\n",
    "    \n",
    "acc = accuracy(y_predicted,class_y)\n",
    "print(\"Accuracy: \" , 100*acc , \"%\")"
   ]
  },
  {
   "cell_type": "markdown",
   "metadata": {},
   "source": [
    "**Nonlinear  Approach**"
   ]
  },
  {
   "cell_type": "code",
   "execution_count": 17,
   "metadata": {},
   "outputs": [],
   "source": [
    "x = np.array([0,0,0,0,1,1,1,1])\n",
    "y = np.array([0,1,2,3,0,1,2,3])\n",
    "class_y =  ([1,-1,1,-1,-1,-1,1,1])\n",
    "#starting weights\n",
    "weight = [-1,1,1]"
   ]
  },
  {
   "cell_type": "code",
   "execution_count": 18,
   "metadata": {},
   "outputs": [
    {
     "data": {
      "text/plain": [
       "<matplotlib.collections.PathCollection at 0x255187d5488>"
      ]
     },
     "execution_count": 18,
     "metadata": {},
     "output_type": "execute_result"
    },
    {
     "data": {
      "image/png": "[encoded data removed]",
      "text/plain": [
       "<Figure size 432x288 with 1 Axes>"
      ]
     },
     "metadata": {
      "needs_background": "light"
     },
     "output_type": "display_data"
    }
   ],
   "source": [
    "plt.scatter(x,y,c=class_y)"
   ]
  },
  {
   "cell_type": "code",
   "execution_count": 19,
   "metadata": {},
   "outputs": [
    {
     "data": {
      "image/png": "[encoded data removed]",
      "text/plain": [
       "<Figure size 432x288 with 1 Axes>"
      ]
     },
     "metadata": {
      "needs_background": "light"
     },
     "output_type": "display_data"
    },
    {
     "name": "stdout",
     "output_type": "stream",
     "text": [
      "[-1, 1, 1]\n"
     ]
    },
    {
     "data": {
      "image/png": "[encoded data removed]",
      "text/plain": [
       "<Figure size 432x288 with 1 Axes>"
      ]
     },
     "metadata": {
      "needs_background": "light"
     },
     "output_type": "display_data"
    },
    {
     "name": "stdout",
     "output_type": "stream",
     "text": [
      "[-1, 1, 1]\n"
     ]
    },
    {
     "data": {
      "image/png": "[encoded data removed]",
      "text/plain": [
       "<Figure size 432x288 with 1 Axes>"
      ]
     },
     "metadata": {
      "needs_background": "light"
     },
     "output_type": "display_data"
    },
    {
     "name": "stdout",
     "output_type": "stream",
     "text": [
      "[-1.   0.8  0.8]\n"
     ]
    },
    {
     "data": {
      "image/png": "[encoded data removed]",
      "text/plain": [
       "<Figure size 432x288 with 1 Axes>"
      ]
     },
     "metadata": {
      "needs_background": "light"
     },
     "output_type": "display_data"
    },
    {
     "name": "stdout",
     "output_type": "stream",
     "text": [
      "[-1.   0.8  0.8]\n"
     ]
    },
    {
     "data": {
      "image/png": "[encoded data removed]",
      "text/plain": [
       "<Figure size 432x288 with 1 Axes>"
      ]
     },
     "metadata": {
      "needs_background": "light"
     },
     "output_type": "display_data"
    },
    {
     "name": "stdout",
     "output_type": "stream",
     "text": [
      "[-1.   0.2  0.6]\n"
     ]
    },
    {
     "data": {
      "image/png": "[encoded data removed]",
      "text/plain": [
       "<Figure size 432x288 with 1 Axes>"
      ]
     },
     "metadata": {
      "needs_background": "light"
     },
     "output_type": "display_data"
    },
    {
     "name": "stdout",
     "output_type": "stream",
     "text": [
      "[-1.   0.2  0.6]\n"
     ]
    },
    {
     "data": {
      "image/png": "[encoded data removed]",
      "text/plain": [
       "<Figure size 432x288 with 1 Axes>"
      ]
     },
     "metadata": {
      "needs_background": "light"
     },
     "output_type": "display_data"
    },
    {
     "name": "stdout",
     "output_type": "stream",
     "text": [
      "[-1.   0.2  0.6]\n"
     ]
    },
    {
     "data": {
      "image/png": "[encoded data removed]",
      "text/plain": [
       "<Figure size 432x288 with 1 Axes>"
      ]
     },
     "metadata": {
      "needs_background": "light"
     },
     "output_type": "display_data"
    },
    {
     "name": "stdout",
     "output_type": "stream",
     "text": [
      "[-1.   0.2  0.6]\n"
     ]
    }
   ],
   "source": [
    "for i in range(x.shape[0]):\n",
    "    current = np.array([x[i],y[i],1])\n",
    "    line_eq = (( weight[0]/weight[1] )*np.array([0,1,2])) + weight[2]/weight[1]\n",
    "    plt.scatter(x,y,c=class_y)\n",
    "    plt.plot([0,1,2],line_eq)\n",
    "    plt.ylim([-2,4])\n",
    "    plt.xlim([-2,4])\n",
    "    plt.show()\n",
    "    print(weight)\n",
    "    weight = weight_updater(weight,current,class_y[i],.2)"
   ]
  },
  {
   "cell_type": "code",
   "execution_count": 20,
   "metadata": {},
   "outputs": [
    {
     "name": "stdout",
     "output_type": "stream",
     "text": [
      "Accuracy:  62.5 %\n"
     ]
    }
   ],
   "source": [
    "y_predicted = []\n",
    "for i in range(x.shape[0]):\n",
    "    current = np.array([x[i],y[i],1])\n",
    "    y_predicted.append(predict(weight,current))\n",
    "\n",
    "\n",
    "    \n",
    "acc = accuracy(y_predicted,class_y)\n",
    "print(\"Accuracy: \" , 100*acc , \"%\")"
   ]
  },
  {
   "cell_type": "markdown",
   "metadata": {},
   "source": [
    "**2D 2nd degree**"
   ]
  },
  {
   "cell_type": "code",
   "execution_count": 21,
   "metadata": {},
   "outputs": [],
   "source": [
    "x_2 = np.array([0,0,0,0,1,1,1,1])\n",
    "y_2 = np.array([0,1,2,3,0,1,2,3])\n",
    "class_y= np.array([-1,-1,1,-1,1,-1,1,1])\n",
    "\n",
    "lst = [x_2,y_2]"
   ]
  },
  {
   "cell_type": "code",
   "execution_count": 22,
   "metadata": {},
   "outputs": [],
   "source": [
    "var,comb,weights_n2 = combinations(lst,2)"
   ]
  },
  {
   "cell_type": "code",
   "execution_count": 23,
   "metadata": {},
   "outputs": [],
   "source": [
    "y_predicted = []\n",
    "for i in range(x_2.shape[0]):\n",
    "    current = out_calculation(var,comb,weights_n2,i)\n",
    "    y_predicted.append(current)"
   ]
  },
  {
   "cell_type": "code",
   "execution_count": 24,
   "metadata": {},
   "outputs": [
    {
     "name": "stdout",
     "output_type": "stream",
     "text": [
      "Accuracy:  50.0 %\n"
     ]
    }
   ],
   "source": [
    "acc2 = accuracy(y_predicted,class_y)\n",
    "print(\"Accuracy: \" , 100*acc2 , \"%\")"
   ]
  },
  {
   "cell_type": "code",
   "execution_count": 25,
   "metadata": {},
   "outputs": [
    {
     "data": {
      "text/plain": [
       "[1.0, 3.0, 7.0, 13.0, 3.0, 6.0, 11.0, 18.0]"
      ]
     },
     "execution_count": 25,
     "metadata": {},
     "output_type": "execute_result"
    }
   ],
   "source": [
    "y_predicted"
   ]
  },
  {
   "cell_type": "code",
   "execution_count": 26,
   "metadata": {},
   "outputs": [],
   "source": [
    "weights_n2[0] = -10"
   ]
  },
  {
   "cell_type": "code",
   "execution_count": 27,
   "metadata": {},
   "outputs": [],
   "source": [
    "y_predicted2 = []\n",
    "for i in range(x_2.shape[0]):\n",
    "    current2 = out_calculation(var,comb,weights_n2,i)\n",
    "    y_predicted2.append(current2)"
   ]
  },
  {
   "cell_type": "code",
   "execution_count": 28,
   "metadata": {},
   "outputs": [
    {
     "name": "stdout",
     "output_type": "stream",
     "text": [
      "Accuracy:  37.5 %\n"
     ]
    }
   ],
   "source": [
    "acc2 = accuracy(y_predicted2,class_y)\n",
    "print(\"Accuracy: \" , 100*acc2 , \"%\")"
   ]
  },
  {
   "cell_type": "code",
   "execution_count": 29,
   "metadata": {},
   "outputs": [
    {
     "data": {
      "text/plain": [
       "[1.0, 3.0, 7.0, 13.0, -8.0, -5.0, 0.0, 7.0]"
      ]
     },
     "execution_count": 29,
     "metadata": {},
     "output_type": "execute_result"
    }
   ],
   "source": [
    "y_predicted2"
   ]
  },
  {
   "cell_type": "markdown",
   "metadata": {},
   "source": [
    "**2D 3rd degree**"
   ]
  },
  {
   "cell_type": "code",
   "execution_count": 30,
   "metadata": {},
   "outputs": [],
   "source": [
    "x_3 = np.array([0,0,0,0,1,1,1,1])\n",
    "y_3 = np.array([0,1,2,3,0,1,2,3])\n",
    "class_y= np.array([-1,-1,1,-1,1,-1,1,1])\n",
    "\n",
    "lst = [x_3,y_3]"
   ]
  },
  {
   "cell_type": "code",
   "execution_count": 31,
   "metadata": {},
   "outputs": [],
   "source": [
    "var,comb,weights_n2 = combinations(lst,3)"
   ]
  },
  {
   "cell_type": "code",
   "execution_count": 32,
   "metadata": {},
   "outputs": [],
   "source": [
    "y_predicted = []\n",
    "for i in range(x_3.shape[0]):\n",
    "    current = out_calculation(var,comb,weights_n2,i)\n",
    "    y_predicted.append(current)"
   ]
  },
  {
   "cell_type": "code",
   "execution_count": 33,
   "metadata": {},
   "outputs": [
    {
     "name": "stdout",
     "output_type": "stream",
     "text": [
      "Accuracy:  50.0 %\n"
     ]
    }
   ],
   "source": [
    "acc2 = accuracy(y_predicted,class_y)\n",
    "print(\"Accuracy: \" , 100*acc2 , \"%\")"
   ]
  },
  {
   "cell_type": "code",
   "execution_count": 34,
   "metadata": {},
   "outputs": [
    {
     "data": {
      "text/plain": [
       "[1.0, 4.0, 15.0, 40.0, 4.0, 10.0, 26.0, 58.0]"
      ]
     },
     "execution_count": 34,
     "metadata": {},
     "output_type": "execute_result"
    }
   ],
   "source": [
    "y_predicted"
   ]
  },
  {
   "cell_type": "code",
   "execution_count": 35,
   "metadata": {},
   "outputs": [],
   "source": [
    "weights_n2[0] = -5"
   ]
  },
  {
   "cell_type": "code",
   "execution_count": 36,
   "metadata": {},
   "outputs": [],
   "source": [
    "y_predicted2 = []\n",
    "for i in range(x_3.shape[0]):\n",
    "    current2 = out_calculation(var,comb,weights_n2,i)\n",
    "    y_predicted2.append(current2)"
   ]
  },
  {
   "cell_type": "code",
   "execution_count": 37,
   "metadata": {},
   "outputs": [
    {
     "name": "stdout",
     "output_type": "stream",
     "text": [
      "Accuracy:  37.5 %\n"
     ]
    }
   ],
   "source": [
    "acc2 = accuracy(y_predicted2,class_y)\n",
    "print(\"Accuracy: \" , 100*acc2 , \"%\")"
   ]
  },
  {
   "cell_type": "code",
   "execution_count": 38,
   "metadata": {},
   "outputs": [
    {
     "data": {
      "text/plain": [
       "[1.0, 4.0, 15.0, 40.0, -2.0, 4.0, 20.0, 52.0]"
      ]
     },
     "execution_count": 38,
     "metadata": {},
     "output_type": "execute_result"
    }
   ],
   "source": [
    "y_predicted2"
   ]
  },
  {
   "cell_type": "markdown",
   "metadata": {},
   "source": [
    "**3D 2nd Degree**"
   ]
  },
  {
   "cell_type": "code",
   "execution_count": 39,
   "metadata": {},
   "outputs": [],
   "source": [
    "x_2 = np.array([0,0,0,0,1,1,1,1])\n",
    "y_2 = np.array([0,1,2,3,0,1,2,3])\n",
    "z_2 = np.array([0,1,3,0,1,2,0,1])\n",
    "class_y= np.array([-1,-1,1,-1,1,-1,1,1])\n",
    "\n",
    "lst = [x_2,y_2,z_2]"
   ]
  },
  {
   "cell_type": "code",
   "execution_count": 40,
   "metadata": {},
   "outputs": [],
   "source": [
    "var,comb,weights_n2 = combinations(lst,2)"
   ]
  },
  {
   "cell_type": "code",
   "execution_count": 41,
   "metadata": {},
   "outputs": [],
   "source": [
    "y_predicted = []\n",
    "for i in range(x_2.shape[0]):\n",
    "    current = out_calculation(var,comb,weights_n2,i)\n",
    "    y_predicted.append(current)"
   ]
  },
  {
   "cell_type": "code",
   "execution_count": 42,
   "metadata": {},
   "outputs": [
    {
     "name": "stdout",
     "output_type": "stream",
     "text": [
      "Accuracy:  50.0 %\n"
     ]
    }
   ],
   "source": [
    "acc2 = accuracy(y_predicted,class_y)\n",
    "print(\"Accuracy: \" , 100*acc2 , \"%\")"
   ]
  },
  {
   "cell_type": "code",
   "execution_count": 43,
   "metadata": {},
   "outputs": [
    {
     "data": {
      "text/plain": [
       "[1.0, 6.0, 25.0, 13.0, 6.0, 16.0, 11.0, 24.0]"
      ]
     },
     "execution_count": 43,
     "metadata": {},
     "output_type": "execute_result"
    }
   ],
   "source": [
    "y_predicted"
   ]
  },
  {
   "cell_type": "code",
   "execution_count": 44,
   "metadata": {},
   "outputs": [],
   "source": [
    "weights_n2[0] = -5"
   ]
  },
  {
   "cell_type": "code",
   "execution_count": 45,
   "metadata": {},
   "outputs": [],
   "source": [
    "y_predicted2 = []\n",
    "for i in range(x_2.shape[0]):\n",
    "    current = out_calculation(var,comb,weights_n2,i)\n",
    "    y_predicted2.append(current)"
   ]
  },
  {
   "cell_type": "code",
   "execution_count": 46,
   "metadata": {},
   "outputs": [
    {
     "name": "stdout",
     "output_type": "stream",
     "text": [
      "Accuracy:  37.5 %\n"
     ]
    }
   ],
   "source": [
    "acc2 = accuracy(y_predicted2,class_y)\n",
    "print(\"Accuracy: \" , 100*acc2 , \"%\")"
   ]
  },
  {
   "cell_type": "code",
   "execution_count": 47,
   "metadata": {},
   "outputs": [
    {
     "data": {
      "text/plain": [
       "[1.0, 6.0, 25.0, 13.0, 0.0, 10.0, 5.0, 18.0]"
      ]
     },
     "execution_count": 47,
     "metadata": {},
     "output_type": "execute_result"
    }
   ],
   "source": [
    "y_predicted2"
   ]
  },
  {
   "cell_type": "markdown",
   "metadata": {},
   "source": [
    "**3D 3rd Degree**\n"
   ]
  },
  {
   "cell_type": "code",
   "execution_count": 48,
   "metadata": {},
   "outputs": [],
   "source": [
    "x_3 = np.array([0,0,0,0,1,1,1,1])\n",
    "y_3 = np.array([0,1,2,3,0,1,2,3])\n",
    "z_3 = np.array([0,1,3,0,1,2,0,1])\n",
    "class_y= np.array([-1,-1,1,-1,1,-1,1,1])\n",
    "\n",
    "lst = [x_3,y_3,z_3]"
   ]
  },
  {
   "cell_type": "code",
   "execution_count": 49,
   "metadata": {},
   "outputs": [],
   "source": [
    "var,comb,weights_n2 = combinations(lst,3)"
   ]
  },
  {
   "cell_type": "code",
   "execution_count": 50,
   "metadata": {},
   "outputs": [],
   "source": [
    "y_predicted = []\n",
    "for i in range(x_3.shape[0]):\n",
    "    current = out_calculation(var,comb,weights_n2,i)\n",
    "    y_predicted.append(current)"
   ]
  },
  {
   "cell_type": "code",
   "execution_count": 51,
   "metadata": {},
   "outputs": [
    {
     "name": "stdout",
     "output_type": "stream",
     "text": [
      "Accuracy:  50.0 %\n"
     ]
    }
   ],
   "source": [
    "acc2 = accuracy(y_predicted,class_y)\n",
    "print(\"Accuracy: \" , 100*acc2 , \"%\")"
   ]
  },
  {
   "cell_type": "code",
   "execution_count": 52,
   "metadata": {},
   "outputs": [
    {
     "data": {
      "text/plain": [
       "[1.0, 10.0, 90.0, 40.0, 10.0, 42.0, 26.0, 82.0]"
      ]
     },
     "execution_count": 52,
     "metadata": {},
     "output_type": "execute_result"
    }
   ],
   "source": [
    "y_predicted"
   ]
  },
  {
   "cell_type": "code",
   "execution_count": 53,
   "metadata": {},
   "outputs": [],
   "source": [
    "weights_n2[0] = -5"
   ]
  },
  {
   "cell_type": "code",
   "execution_count": 54,
   "metadata": {},
   "outputs": [],
   "source": [
    "y_predicted2 = []\n",
    "for i in range(x_3.shape[0]):\n",
    "    current2 = out_calculation(var,comb,weights_n2,i)\n",
    "    y_predicted2.append(current2)"
   ]
  },
  {
   "cell_type": "code",
   "execution_count": 55,
   "metadata": {},
   "outputs": [
    {
     "name": "stdout",
     "output_type": "stream",
     "text": [
      "Accuracy:  50.0 %\n"
     ]
    }
   ],
   "source": [
    "acc2 = accuracy(y_predicted2,class_y)\n",
    "print(\"Accuracy: \" , 100*acc2 , \"%\")"
   ]
  },
  {
   "cell_type": "code",
   "execution_count": 56,
   "metadata": {},
   "outputs": [
    {
     "data": {
      "text/plain": [
       "[1.0, 10.0, 90.0, 40.0, 4.0, 36.0, 20.0, 76.0]"
      ]
     },
     "execution_count": 56,
     "metadata": {},
     "output_type": "execute_result"
    }
   ],
   "source": [
    "y_predicted2"
   ]
  }
 ],
 "metadata": {
  "kernelspec": {
   "display_name": "Python 3",
   "language": "python",
   "name": "python3"
  },
  "language_info": {
   "codemirror_mode": {
    "name": "ipython",
    "version": 3
   },
   "file_extension": ".py",
   "mimetype": "text/x-python",
   "name": "python",
   "nbconvert_exporter": "python",
   "pygments_lexer": "ipython3",
   "version": "3.7.9"
  }
 },
 "nbformat": 4,
 "nbformat_minor": 4
}
